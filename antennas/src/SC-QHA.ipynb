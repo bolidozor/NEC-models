{
 "cells": [
  {
   "cell_type": "markdown",
   "metadata": {},
   "source": [
    "\n"
   ]
  },
  {
   "cell_type": "code",
   "execution_count": 1,
   "metadata": {
    "collapsed": false
   },
   "outputs": [],
   "source": [
    "import numpy as np\n",
    "import scipy.optimize, scipy.constants\n",
    "import matplotlib.pyplot as plt\n",
    "import matplotlib as mpl\n",
    "\n",
    "from PyNEC import *\n",
    "from antenna_util import *\n",
    "\n",
    "from context_clean import *\n",
    "\n",
    "import math\n",
    "\n",
    "brass_conductivity = 15600000 # mhos\n",
    "copper_conductivity = 1.45e7 # Copper\n",
    "ground_conductivity = 0.002\n",
    "ground_dielectric = 10\n",
    "\n",
    "start = 100\n",
    "stop  = 150\n",
    "count = stop - start\n",
    "\n",
    "system_impedance = 50\n",
    "\n",
    "design_freq_mhz = 143.05 # The center of the first range\n",
    "wavelength = scipy.constants.c / (design_freq_mhz*1000000)\n"
   ]
  },
  {
   "cell_type": "code",
   "execution_count": 2,
   "metadata": {
    "collapsed": false
   },
   "outputs": [],
   "source": [
    "def n_seg(freq, length):\n",
    "  wavelength = 3e8/(1e6*freq)\n",
    "  return (2 * (int(math.ceil(77*length/wavelength))/2)) + 1\n",
    "\n",
    "\n",
    "def sc_quad_helix(height, diameter, wire_diameter = 0.02):\n",
    "    \n",
    "    nec = context_clean(nec_context())\n",
    "    nec.set_extended_thin_wire_kernel(True)\n",
    "    \n",
    "    geo = geometry_clean(nec.get_geometry())\n",
    "\n",
    "    wire_r = wire_diameter/2;\n",
    "    helix_r = diameter/2;\n",
    "    \n",
    "    \n",
    "    #print \"Wire Diameter %s\" % (wire_r * 2)\n",
    "    \n",
    "    helix_turns = 0.5\n",
    "    helix_elevation = 0.05  # elevation of helix above conductive plate\n",
    "    \n",
    "    # helix loop \n",
    "    helix_twist_height = height / helix_turns\n",
    "    #geo.wire(tag_id=1, nr_segments=1, src=np.array([0, 0, 0]), dst=np.array([helix_r, 0, -helix_elevation]), radius=wire_r)\n",
    "    geo.helix(tag_id=1, nr_segments=50, spacing=helix_twist_height, lenght=height, start_radius=np.array([helix_r, helix_r]), end_radius=np.array([helix_r, helix_r]), wire_radius=wire_r)\n",
    "    geo.move(rotate_z=90, copies=3, tag_inc=1)\n",
    "    geo.wire(tag_id=10, nr_segments=2, src=np.array([0, 0, height]), dst=np.array([helix_r, 0, height]), radius=wire_r)\n",
    "    geo.wire(tag_id=11, nr_segments=2, src=np.array([0, 0, height]), dst=np.array([0, helix_r, height]), radius=wire_r)\n",
    "    geo.wire(tag_id=12, nr_segments=2, src=np.array([0, 0, height]), dst=np.array([-helix_r, 0, height]), radius=wire_r)\n",
    "    geo.wire(tag_id=13, nr_segments=2, src=np.array([0, 0, height]), dst=np.array([0, -helix_r, height]), radius=wire_r)\n",
    "    \n",
    "    ## bottom helix connecting wires\n",
    "    geo.wire(tag_id=20, nr_segments=2, src=np.array([0, 0, 0]), dst=np.array([helix_r, 0, 0]), radius=wire_r)\n",
    "    geo.wire(tag_id=21, nr_segments=2, src=np.array([0, 0, 0]), dst=np.array([0, helix_r, 0]), radius=wire_r)\n",
    "    geo.wire(tag_id=22, nr_segments=2, src=np.array([0, 0, 0]), dst=np.array([-helix_r, 0, 0]), radius=wire_r)\n",
    "    geo.wire(tag_id=23, nr_segments=2, src=np.array([0, 0, 0]), dst=np.array([0, -helix_r, 0]), radius=wire_r)\n",
    "    \n",
    "    geo.wire(tag_id=1, nr_segments=1, src=np.array([0, 0, 0]), dst=np.array([0, 0, -helix_elevation]), radius=wire_r) # vertical wire connecting the patch and helixal antenna\n",
    "    geo.rectangular_patch(a1 = np.array([-1, -1, -helix_elevation]), a2 = np.array([1, -1, -helix_elevation]), a3= np.array([1, 1, -helix_elevation]))\n",
    "    #geo.rectangular_patch(a1 = np.array([-1, -1, 0]), a2 = np.array([1, -1, 0]), a3= np.array([1, 1, 0]))\n",
    "\n",
    "    # Everything is copper\n",
    "    nec.set_wire_conductivity(copper_conductivity)\n",
    "    # finish structure definition\n",
    "    nec.geometry_complete(ground_plane=False)\n",
    "\n",
    "    # Voltage excitation at legs of the antenna\n",
    "    nec.voltage_excitation(wire_tag=1, segment_nr=1, voltage=1.0)\n",
    "    nec.voltage_excitation(wire_tag=2, segment_nr=1, voltage=0.0+1.0j)\n",
    "    nec.voltage_excitation(wire_tag=3, segment_nr=1, voltage=-1.0)\n",
    "    nec.voltage_excitation(wire_tag=4, segment_nr=1, voltage=0.0-1.0j)\n",
    "    #nec.set_frequencies_linear(start_frequency=140, stop_frequency=150, count=100)\n",
    "    #nec.radiation_pattern(thetas=Range(90, 90, count=1), phis=Range(180,180,count=1))\n",
    "\n",
    "    return nec"
   ]
  },
  {
   "cell_type": "code",
   "execution_count": null,
   "metadata": {
    "collapsed": false
   },
   "outputs": [],
   "source": []
  },
  {
   "cell_type": "code",
   "execution_count": 3,
   "metadata": {
    "collapsed": false
   },
   "outputs": [],
   "source": [
    "def get_gain_swr_range(height, diameter, wire_diameter, start=start, stop=stop, step=1):\n",
    "    gains_db = []\n",
    "    frequencies = []\n",
    "    vswrs = []\n",
    "    for freq in range(start, stop + 1, step):\n",
    "        nec = sc_quad_helix(height, diameter, wire_diameter)\n",
    "        nec.set_frequency(freq) # TODO: ensure that we don't need to re-generate this!\n",
    "        nec.radiation_pattern(thetas=Range(90, 90, count=1), phis=Range(180,180,count=1))\n",
    "\n",
    "        rp = nec.context.get_radiation_pattern(0)\n",
    "        ipt = nec.get_input_parameters(0)\n",
    "        z = ipt.get_impedance()[0]\n",
    "\n",
    "        # Gains are in decibels\n",
    "        gains_db.append(rp.get_gain()[0])\n",
    "        vswrs.append(vswr(z, system_impedance))\n",
    "        frequencies.append(ipt.get_frequency())\n",
    "\n",
    "    return frequencies, gains_db, vswrs\n",
    "\n",
    "def get_gain_swr(height, diameter, wire_diameter, freq):\n",
    "    nec = sc_quad_helix(height, diameter, wire_diameter)\n",
    "    nec.set_frequency(freq) # TODO: ensure that we don't need to re-generate this!\n",
    "    nec.radiation_pattern(thetas=Range(-90, 90, count=90), phis=Range(-90,90,count=90))\n",
    "\n",
    "    rp = nec.context.get_radiation_pattern(0)\n",
    "    ipt = nec.get_input_parameters(0)\n",
    "    z = ipt.get_impedance()[0]\n",
    "    \n",
    "    gains_db = rp.get_gain() # Is an array of theta,phi -> gain. In this case we only have one phi    \n",
    "    gain = np.average(gains_db[30,:])\n",
    "\n",
    "    return ipt.get_frequency(), gain, vswr(z, system_impedance)"
   ]
  },
  {
   "cell_type": "code",
   "execution_count": 4,
   "metadata": {
    "collapsed": false
   },
   "outputs": [],
   "source": [
    "def create_optimization_target():\n",
    "    def target(args):\n",
    "        height, diameter, wire_diameter  = args\n",
    "        if height <= 0 or diameter <= 0:\n",
    "            print \"wrong element dimension\"\n",
    "            return float('inf')\n",
    "\n",
    "        try:\n",
    "            result = 0.0\n",
    "\n",
    "            vswr_score = 0.0\n",
    "            gains_score = 0.0\n",
    "\n",
    "            freq, gain, vswr = get_gain_swr(height, diameter, wire_diameter,  freq=design_freq_mhz)\n",
    "\n",
    "            # VSWR should minimal in both bands, gains maximal:\n",
    "            result = vswr #- gain\n",
    "            \n",
    "        except Exception,e:\n",
    "            print str(e)\n",
    "            return float('inf')\n",
    "        return result\n",
    "    return target\n"
   ]
  },
  {
   "cell_type": "code",
   "execution_count": 5,
   "metadata": {
    "collapsed": false
   },
   "outputs": [],
   "source": [
    "def simulate_and_get_impedance(nec):\n",
    "  nec.set_frequency(design_freq_mhz)\n",
    "\n",
    "  nec.xq_card(0)\n",
    "\n",
    "  index = 0\n",
    "  return nec.get_input_parameters(index).get_impedance()[0]  # select only one impedance result (other are the same due to the structure symmetry)\n"
   ]
  },
  {
   "cell_type": "code",
   "execution_count": 6,
   "metadata": {
    "collapsed": false
   },
   "outputs": [],
   "source": [
    "def draw_frequencie_ranges(ax):\n",
    "    ax.axvline(x=140, color='red', linewidth=1)\n",
    "    ax.axvline(x=144, color='red', linewidth=1)\n",
    "\n",
    "def show_report(height, diameter, wire_diameter):\n",
    "    nec = sc_quad_helix(height, diameter, wire_diameter)\n",
    "\n",
    "    z = simulate_and_get_impedance(nec)\n",
    "\n",
    "    print \"Initial impedance: (%6.1f,%+6.1fI) Ohms\" % (z.real, z.imag)\n",
    "    print \"VSWR @ 50 Ohm is %6.6f\" % vswr(z, system_impedance)\n",
    "\n",
    "    nec = sc_quad_helix(height, diameter, wire_diameter)\n",
    "  \n",
    "    freqs, gains, vswrs = get_gain_swr_range(height, diameter, wire_diameter, start=100, stop=200)\n",
    "\n",
    "    freqs = np.array(freqs) / 1000000 # In MHz\n",
    "      \n",
    "    ax = plt.subplot(111)\n",
    "    ax.plot(freqs, gains)\n",
    "    draw_frequencie_ranges(ax)\n",
    "\n",
    "    ax.set_title(\"Gains of a 5-element log-periodic antenna\")\n",
    "    ax.set_xlabel(\"Frequency (MHz)\")\n",
    "    ax.set_ylabel(\"Gain\")\n",
    "\n",
    "    #ax.yaxis.set_major_locator(majorLocator)\n",
    "    #ax.yaxis.set_major_formatter(majorFormatter)\n",
    "\n",
    "    #ax.yaxis.set_minor_locator(minorLocator)\n",
    "    #ax.yaxis.set_minor_formatter(minorFormatter)\n",
    "\n",
    "    #ax.yaxis.grid(b=True, which='minor', color='0.75', linestyle='-')\n",
    "\n",
    "    plt.show()\n",
    "\n",
    "    ax = plt.subplot(111)\n",
    "    ax.plot(freqs, vswrs)\n",
    "    draw_frequencie_ranges(ax)\n",
    "\n",
    "    ax.set_yscale(\"log\")\n",
    "    ax.set_title(\"VSWR of a QHA antenna @ 100 Ohm impedance\")\n",
    "    ax.set_xlabel(\"Frequency (MHz)\")\n",
    "    ax.set_ylabel(\"VSWR\")\n",
    "    plt.show()"
   ]
  },
  {
   "cell_type": "code",
   "execution_count": null,
   "metadata": {
    "collapsed": false,
    "scrolled": true
   },
   "outputs": [
    {
     "name": "stdout",
     "output_type": "stream",
     "text": [
      "Wavelength is 2.0957m, initial height and diameter is 0.6287m, 0.4191m\n",
      "Unoptimized antenna...\n",
      "Initial impedance: (  39.3, +70.8I) Ohms\n",
      "VSWR @ 50 Ohm is 1.619660\n"
     ]
    }
   ],
   "source": [
    "  initial_height  = wavelength * 0.3\n",
    "  initial_diameter  = wavelength * 0.2\n",
    "  initial_wire_diameter = 0.018\n",
    "\n",
    "  print \"Wavelength is %0.4fm, initial height and diameter is %0.4fm, %0.4fm\" % (wavelength, initial_height, initial_diameter)\n",
    "  \n",
    "  print \"Unoptimized antenna...\"\n",
    "  show_report(initial_height, initial_diameter, initial_wire_diameter)\n",
    "\n",
    "  print \"Optimizing antenna...\"\n",
    "  target = create_optimization_target()\n",
    "\n",
    "  # Optimize local minimum only with gradient desce\n",
    "  #optimized_result = scipy.optimize.minimize(target, np.array([initial_height, initial_diameter]), method='Nelder-Mead')\n",
    "\n",
    "  # Use differential evolution:\n",
    "  minimizer_kwargs = dict(method='Nelder-Mead')\n",
    "  bounds = [ (0.1, 0.9), (0.1, 0.9), (0.018, 0.022) ]\n",
    "  optimized_result = scipy.optimize.differential_evolution(target, bounds, seed=42, disp=True, popsize=20)\n",
    "\n",
    "  # Basin hopping isn't so good, but could also have been an option:\n",
    "  #optimized_result = scipy.optimize.basinhopping(target, np.array([initial_height, initial_diameter]), minimizer_kwargs=minimizer_kwargs, niter=5, stepsize=0.015, T=2.0, disp=True)\n",
    "\n",
    "  print \"Optimized antenna...\"\n",
    "  optimized_height, optimized_diameter, optimized_wire_diameter =  optimized_result.x[0], optimized_result.x[1] , optimized_result.x[2]\n",
    "  print \"Wavelength is %0.4fm, optimized height and diameter is %0.4fm, %0.4fm helix wire diameter should be %0.4fm \" % (wavelength, optimized_height, optimized_diameter, optimized_wire_diameter)\n",
    "  show_report(optimized_height, optimized_diameter, optimized_wire_diameter)\n",
    "\n"
   ]
  },
  {
   "cell_type": "code",
   "execution_count": 8,
   "metadata": {
    "collapsed": false
   },
   "outputs": [],
   "source": [
    "freqs, gains, vswrs = get_gain_swr_range(optimized_height, optimized_diameter, optimized_wire_diameter, start=140, stop=145)"
   ]
  },
  {
   "cell_type": "code",
   "execution_count": 8,
   "metadata": {
    "collapsed": false
   },
   "outputs": [
    {
     "data": {
      "text/plain": [
       "143.05"
      ]
     },
     "execution_count": 8,
     "metadata": {},
     "output_type": "execute_result"
    }
   ],
   "source": [
    "design_freq_mhz"
   ]
  },
  {
   "cell_type": "code",
   "execution_count": 3,
   "metadata": {
    "collapsed": false
   },
   "outputs": [],
   "source": [
    "nec = sc_quad_helix(0.408, 0.842, 0.0198)\n",
    "nec.set_frequency(143.05) # TODO: ensure that we don't need to re-generate this!\n",
    "nec.radiation_pattern(thetas=Range(-180,180, count=180), phis=Range(-180,180,count=180))\n",
    "\n",
    "rp = nec.context.get_radiation_pattern(0)\n",
    "ipt = nec.get_input_parameters(0)\n",
    "z = ipt.get_impedance()[0]"
   ]
  },
  {
   "cell_type": "code",
   "execution_count": 4,
   "metadata": {
    "collapsed": false
   },
   "outputs": [],
   "source": [
    "  # Gains are in decibels\n",
    "  gains_db = rp.get_gain() # Is an array of theta,phi -> gain. In this case we only have one phi\n",
    "  thetas = rp.get_theta_angles() * 3.1415 / 180.0\n",
    "  phis = rp.get_phi_angles() * 3.1415 / 180.0"
   ]
  },
  {
   "cell_type": "code",
   "execution_count": null,
   "metadata": {
    "collapsed": false
   },
   "outputs": [],
   "source": []
  },
  {
   "cell_type": "code",
   "execution_count": 5,
   "metadata": {
    "collapsed": false
   },
   "outputs": [],
   "source": [
    "ax = plt.subplot(121, polar=True)\n",
    "ax.plot(thetas, gains_db, color='r', linewidth=3)\n",
    "ax.set_xticks(np.pi/180. * np.linspace(180,  -180, 8, endpoint=False))\n",
    "ax.set_theta_zero_location(\"N\")\n",
    "ax.set_rlim((-24.0, 9.0)) # TODO: automate. TODO: 4nec2 cheats and makes the lowest points (-999) the same as the lowest non-999 point :)\n",
    "ax.set_rticks(np.linspace(-24, 9, 10, endpoint=False))\n",
    "ax.grid(True)\n",
    "ax.set_title(\"Gain pattern in the vertical plane\", va='bottom')\n",
    "\n",
    "ax = plt.subplot(122, polar=True)\n",
    "ax.plot(phis, gains_db[50,:], color='r', linewidth=3)\n",
    "ax.set_xticks(np.pi/180. * np.linspace(0,  360, 8, endpoint=False))\n",
    "ax.set_theta_zero_location(\"N\")\n",
    "ax.set_rlim((-6, 2.0)) # TODO: automate. TODO: 4nec2 cheats and makes the lowest points (-999) the same as the lowest non-999 point :)\n",
    "ax.set_rticks(np.linspace(-5, 2, 10, endpoint=False))\n",
    "ax.grid(True)\n",
    "\n",
    "ax.set_title(\"Gain pattern in the horizontal plane\", va='bottom')\n",
    "plt.show()"
   ]
  },
  {
   "cell_type": "code",
   "execution_count": 9,
   "metadata": {
    "collapsed": false
   },
   "outputs": [
    {
     "data": {
      "text/plain": [
       "1"
      ]
     },
     "execution_count": 9,
     "metadata": {},
     "output_type": "execute_result"
    }
   ],
   "source": []
  },
  {
   "cell_type": "code",
   "execution_count": null,
   "metadata": {
    "collapsed": false
   },
   "outputs": [],
   "source": []
  },
  {
   "cell_type": "code",
   "execution_count": null,
   "metadata": {
    "collapsed": true
   },
   "outputs": [],
   "source": []
  }
 ],
 "metadata": {
  "kernelspec": {
   "display_name": "Python 2",
   "language": "python",
   "name": "python2"
  },
  "language_info": {
   "codemirror_mode": {
    "name": "ipython",
    "version": 2
   },
   "file_extension": ".py",
   "mimetype": "text/x-python",
   "name": "python",
   "nbconvert_exporter": "python",
   "pygments_lexer": "ipython2",
   "version": "2.7.11+"
  }
 },
 "nbformat": 4,
 "nbformat_minor": 0
}
