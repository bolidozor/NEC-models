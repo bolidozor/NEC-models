{
 "cells": [
  {
   "cell_type": "markdown",
   "metadata": {},
   "source": [
    "\n"
   ]
  },
  {
   "cell_type": "code",
   "execution_count": 1,
   "metadata": {
    "collapsed": false
   },
   "outputs": [],
   "source": [
    "import numpy as np\n",
    "import scipy.optimize, scipy.constants\n",
    "import matplotlib.pyplot as plt\n",
    "import matplotlib as mpl\n",
    "\n",
    "from PyNEC import *\n",
    "from antenna_util import *\n",
    "\n",
    "from context_clean import *\n",
    "\n",
    "import math\n",
    "\n",
    "brass_conductivity = 15600000 # mhos\n",
    "copper_conductivity = 1.45e7 # Copper\n",
    "ground_conductivity = 0.002\n",
    "ground_dielectric = 10\n",
    "\n",
    "start = 100\n",
    "stop  = 150\n",
    "count = stop - start\n",
    "\n",
    "system_impedance = 50\n",
    "\n",
    "design_freq_mhz = 143.05 # The center of the first range\n",
    "wavelength = scipy.constants.c / (design_freq_mhz*1000000)\n"
   ]
  },
  {
   "cell_type": "code",
   "execution_count": 2,
   "metadata": {
    "collapsed": false
   },
   "outputs": [],
   "source": [
    "def n_seg(freq, length):\n",
    "  wavelength = 3e8/(1e6*freq)\n",
    "  return (2 * (int(math.ceil(77*length/wavelength))/2)) + 1\n",
    "\n",
    "\n",
    "def sc_quad_helix(height, diameter, wire_diameter = 0.02):\n",
    "    \n",
    "    nec = context_clean(nec_context())\n",
    "    nec.set_extended_thin_wire_kernel(True)\n",
    "    \n",
    "    geo = geometry_clean(nec.get_geometry())\n",
    "\n",
    "    wire_r = wire_diameter/2;\n",
    "    helix_r = diameter/2;\n",
    "    \n",
    "    \n",
    "    #print \"Wire Diameter %s\" % (wire_r * 2)\n",
    "    \n",
    "    helix_turns = 0.5\n",
    "    helix_elevation = 0.05  # elevation of helix above conductive plate\n",
    "    \n",
    "    # helix loop \n",
    "    helix_twist_height = height / helix_turns\n",
    "    geo.helix(tag_id=1, nr_segments=50, spacing=helix_twist_height, lenght=height, start_radius=np.array([helix_r, helix_r]), end_radius=np.array([helix_r, helix_r]), wire_radius=wire_r)\n",
    "    geo.move(rotate_z=90, move_z=helix_elevation, copies=3, tag_inc=1)\n",
    "\n",
    "    geo.wire(tag_id=30, nr_segments=1, src=np.array([helix_r, 0, 0]), dst=np.array([helix_r, 0, -helix_elevation]), radius=wire_r)\n",
    "    geo.wire(tag_id=31, nr_segments=1, src=np.array([-helix_r, 0, 0]), dst=np.array([-helix_r, 0, -helix_elevation]), radius=wire_r)\n",
    "    geo.wire(tag_id=32, nr_segments=1, src=np.array([0, helix_r, 0]), dst=np.array([0, helix_r, -helix_elevation]), radius=wire_r)\n",
    "    geo.wire(tag_id=33, nr_segments=1, src=np.array([0, -helix_r, 0]), dst=np.array([0, -helix_r, -helix_elevation]), radius=wire_r)\n",
    "\n",
    "    \n",
    "    geo.wire(tag_id=10, nr_segments=2, src=np.array([0, 0, height]), dst=np.array([helix_r, 0, height]), radius=wire_r)\n",
    "    geo.wire(tag_id=11, nr_segments=2, src=np.array([0, 0, height]), dst=np.array([0, helix_r, height]), radius=wire_r)\n",
    "    geo.wire(tag_id=12, nr_segments=2, src=np.array([0, 0, height]), dst=np.array([-helix_r, 0, height]), radius=wire_r)\n",
    "    geo.wire(tag_id=13, nr_segments=2, src=np.array([0, 0, height]), dst=np.array([0, -helix_r, height]), radius=wire_r)\n",
    "    \n",
    "    ## bottom helix connecting wires\n",
    "    #geo.wire(tag_id=20, nr_segments=2, src=np.array([0, 0, 0]), dst=np.array([helix_r, 0, 0]), radius=wire_r)\n",
    "    #geo.wire(tag_id=21, nr_segments=2, src=np.array([0, 0, 0]), dst=np.array([0, helix_r, 0]), radius=wire_r)\n",
    "    #geo.wire(tag_id=22, nr_segments=2, src=np.array([0, 0, 0]), dst=np.array([-helix_r, 0, 0]), radius=wire_r)\n",
    "    #geo.wire(tag_id=23, nr_segments=2, src=np.array([0, 0, 0]), dst=np.array([0, -helix_r, 0]), radius=wire_r)\n",
    "    \n",
    "    #geo.wire(tag_id=1, nr_segments=1, src=np.array([0, 0, 0]), dst=np.array([0, 0, -helix_elevation]), radius=wire_r) # vertical wire connecting the patch and helixal antenna\n",
    "    geo.rectangular_patch(a1 = np.array([-1, -1, -helix_elevation]), a2 = np.array([1, -1, -helix_elevation]), a3= np.array([1, 1, -helix_elevation]))\n",
    "    #geo.rectangular_patch(a1 = np.array([-1, -1, 0]), a2 = np.array([1, -1, 0]), a3= np.array([1, 1, 0]))\n",
    "\n",
    "    # Everything is copper\n",
    "    nec.set_wire_conductivity(copper_conductivity)\n",
    "    # finish structure definition\n",
    "    nec.geometry_complete(ground_plane=False)\n",
    "\n",
    "    # Voltage excitation at legs of the antenna\n",
    "    nec.voltage_excitation(wire_tag=1, segment_nr=1, voltage=1.0)\n",
    "    nec.voltage_excitation(wire_tag=2, segment_nr=1, voltage=0.0+1.0j)\n",
    "    nec.voltage_excitation(wire_tag=3, segment_nr=1, voltage=-1.0)\n",
    "    nec.voltage_excitation(wire_tag=4, segment_nr=1, voltage=0.0-1.0j)\n",
    "    #nec.set_frequencies_linear(start_frequency=140, stop_frequency=150, count=100)\n",
    "    #nec.radiation_pattern(thetas=Range(90, 90, count=1), phis=Range(180,180,count=1))\n",
    "\n",
    "    return nec"
   ]
  },
  {
   "cell_type": "code",
   "execution_count": null,
   "metadata": {
    "collapsed": false
   },
   "outputs": [],
   "source": []
  },
  {
   "cell_type": "code",
   "execution_count": 3,
   "metadata": {
    "collapsed": false
   },
   "outputs": [],
   "source": [
    "def get_gain_swr_range(height, diameter, wire_diameter, start=start, stop=stop, step=1):\n",
    "    gains_db = []\n",
    "    frequencies = []\n",
    "    vswrs = []\n",
    "    for freq in range(start, stop + 1, step):\n",
    "        nec = sc_quad_helix(height, diameter, wire_diameter)\n",
    "        nec.set_frequency(freq) # TODO: ensure that we don't need to re-generate this!\n",
    "        nec.radiation_pattern(thetas=Range(0, 0, count=1), phis=Range(45,45,count=1))\n",
    "\n",
    "        rp = nec.context.get_radiation_pattern(0)\n",
    "        ipt = nec.get_input_parameters(0)\n",
    "        z = ipt.get_impedance()[0]\n",
    "\n",
    "        # Gains are in decibels\n",
    "        gains_db.append(rp.get_gain()[0])\n",
    "        vswrs.append(vswr(z, system_impedance))\n",
    "        frequencies.append(ipt.get_frequency())\n",
    "\n",
    "    return frequencies, gains_db, vswrs\n",
    "\n",
    "def get_gain_swr(height, diameter, wire_diameter, freq):\n",
    "    nec = sc_quad_helix(height, diameter, wire_diameter)\n",
    "    nec.set_frequency(freq) # TODO: ensure that we don't need to re-generate this!\n",
    "    nec.radiation_pattern(thetas=Range(0, 0, count=1), phis=Range(-90,90,count=90))\n",
    "\n",
    "    rp = nec.context.get_radiation_pattern(0)\n",
    "    ipt = nec.get_input_parameters(0)\n",
    "    z = ipt.get_impedance()[0]\n",
    "    \n",
    "    gains_db = rp.get_gain() # Is an array of theta,phi -> gain. In this case we only have one phi    \n",
    "    gain = np.average(gains_db[0,:])\n",
    "\n",
    "    return ipt.get_frequency(), gain, vswr(z, system_impedance)"
   ]
  },
  {
   "cell_type": "code",
   "execution_count": 4,
   "metadata": {
    "collapsed": false
   },
   "outputs": [],
   "source": [
    "def create_optimization_target():\n",
    "    def target(args):\n",
    "        height, diameter, wire_diameter  = args\n",
    "        if height <= 0 or diameter <= 0:\n",
    "            print \"wrong element dimension\"\n",
    "            return float('inf')\n",
    "\n",
    "        try:\n",
    "            result = 0.0\n",
    "\n",
    "            vswr_score = 0.0\n",
    "            gains_score = 0.0\n",
    "\n",
    "            freq, gain, vswr = get_gain_swr(height, diameter, wire_diameter,  freq=design_freq_mhz)\n",
    "\n",
    "            # VSWR should minimal in both bands, gains maximal:\n",
    "            result = vswr - gain\n",
    "            \n",
    "        except Exception,e:\n",
    "            print str(e)\n",
    "            return float('inf')\n",
    "        return result\n",
    "    return target\n"
   ]
  },
  {
   "cell_type": "code",
   "execution_count": 5,
   "metadata": {
    "collapsed": false
   },
   "outputs": [],
   "source": [
    "def simulate_and_get_impedance(nec):\n",
    "  nec.set_frequency(design_freq_mhz)\n",
    "\n",
    "  nec.xq_card(0)\n",
    "\n",
    "  index = 0\n",
    "  return nec.get_input_parameters(index).get_impedance()[0]  # select only one impedance result (other are the same due to the structure symmetry)\n"
   ]
  },
  {
   "cell_type": "code",
   "execution_count": 6,
   "metadata": {
    "collapsed": false
   },
   "outputs": [],
   "source": [
    "def draw_frequencie_ranges(ax):\n",
    "    ax.axvline(x=140, color='red', linewidth=1)\n",
    "    ax.axvline(x=144, color='red', linewidth=1)\n",
    "\n",
    "def show_report(height, diameter, wire_diameter):\n",
    "    nec = sc_quad_helix(height, diameter, wire_diameter)\n",
    "\n",
    "    z = simulate_and_get_impedance(nec)\n",
    "\n",
    "    print \"Impedance: (%6.1f,%+6.1fI) Ohms\" % (z.real, z.imag)\n",
    "    print \"VSWR @ 50 Ohm is %6.6f\" % vswr(z, system_impedance)\n",
    "\n",
    "    nec = sc_quad_helix(height, diameter, wire_diameter)\n",
    "  \n",
    "    freqs, gains, vswrs = get_gain_swr_range(height, diameter, wire_diameter, start=100, stop=200)\n",
    "\n",
    "    freqs = np.array(freqs) / 1000000 # In MHz\n",
    "      \n",
    "    ax = plt.subplot(111)\n",
    "    ax.plot(freqs, gains)\n",
    "    draw_frequencie_ranges(ax)\n",
    "\n",
    "    ax.set_title(\"Gains of a 5-element log-periodic antenna\")\n",
    "    ax.set_xlabel(\"Frequency (MHz)\")\n",
    "    ax.set_ylabel(\"Gain\")\n",
    "\n",
    "    #ax.yaxis.set_major_locator(majorLocator)\n",
    "    #ax.yaxis.set_major_formatter(majorFormatter)\n",
    "\n",
    "    #ax.yaxis.set_minor_locator(minorLocator)\n",
    "    #ax.yaxis.set_minor_formatter(minorFormatter)\n",
    "\n",
    "    #ax.yaxis.grid(b=True, which='minor', color='0.75', linestyle='-')\n",
    "\n",
    "    plt.show()\n",
    "\n",
    "    ax = plt.subplot(111)\n",
    "    ax.plot(freqs, vswrs)\n",
    "    draw_frequencie_ranges(ax)\n",
    "\n",
    "    ax.set_yscale(\"log\")\n",
    "    ax.set_title(\"VSWR of a QHA antenna @ 50 Ohm impedance\")\n",
    "    ax.set_xlabel(\"Frequency (MHz)\")\n",
    "    ax.set_ylabel(\"VSWR\")\n",
    "    plt.show()"
   ]
  },
  {
   "cell_type": "code",
   "execution_count": 7,
   "metadata": {
    "collapsed": false,
    "scrolled": false
   },
   "outputs": [
    {
     "name": "stdout",
     "output_type": "stream",
     "text": [
      "Wavelength is 2.0957m, initial height and diameter is 0.6287m, 0.4191m\n",
      "Unoptimized antenna...\n",
      "Impedance: (  65.4,-497.7I) Ohms\n",
      "VSWR @ 50 Ohm is 77.773841\n",
      "Optimizing antenna...\n",
      "differential_evolution step 1: f(x)= -14.7388\n",
      "differential_evolution step 2: f(x)= -14.7388\n",
      "differential_evolution step 3: f(x)= -14.7388\n",
      "differential_evolution step 4: f(x)= -22.6029\n",
      "differential_evolution step 5: f(x)= -22.6029\n",
      "differential_evolution step 6: f(x)= -22.6029\n",
      "differential_evolution step 7: f(x)= -22.6029\n",
      "differential_evolution step 8: f(x)= -23.445\n",
      "differential_evolution step 9: f(x)= -23.445\n",
      "differential_evolution step 10: f(x)= -23.445\n",
      "differential_evolution step 11: f(x)= -23.445\n",
      "differential_evolution step 12: f(x)= -28.5887\n",
      "differential_evolution step 13: f(x)= -37.7975\n",
      "differential_evolution step 14: f(x)= -37.7975\n",
      "differential_evolution step 15: f(x)= -37.7975\n",
      "differential_evolution step 16: f(x)= -38.6176\n",
      "differential_evolution step 17: f(x)= -38.6176\n",
      "differential_evolution step 18: f(x)= -38.6176\n",
      "differential_evolution step 19: f(x)= -38.6176\n",
      "differential_evolution step 20: f(x)= -38.6683\n",
      "differential_evolution step 21: f(x)= -38.6683\n",
      "differential_evolution step 22: f(x)= -38.6683\n",
      "differential_evolution step 23: f(x)= -38.6683\n",
      "differential_evolution step 24: f(x)= -38.6683\n",
      "differential_evolution step 25: f(x)= -38.6683\n",
      "differential_evolution step 26: f(x)= -38.6683\n",
      "differential_evolution step 27: f(x)= -38.6683\n",
      "differential_evolution step 28: f(x)= -38.6683\n",
      "differential_evolution step 29: f(x)= -41.226\n",
      "differential_evolution step 30: f(x)= -41.226\n",
      "differential_evolution step 31: f(x)= -41.226\n",
      "differential_evolution step 32: f(x)= -41.226\n",
      "differential_evolution step 33: f(x)= -42.7842\n",
      "differential_evolution step 34: f(x)= -42.7842\n",
      "differential_evolution step 35: f(x)= -42.7842\n",
      "differential_evolution step 36: f(x)= -42.7842\n",
      "differential_evolution step 37: f(x)= -43.0621\n",
      "differential_evolution step 38: f(x)= -46.8757\n",
      "differential_evolution step 39: f(x)= -48.4464\n",
      "differential_evolution step 40: f(x)= -48.4464\n",
      "differential_evolution step 41: f(x)= -51.5129\n",
      "differential_evolution step 42: f(x)= -51.5129\n",
      "differential_evolution step 43: f(x)= -51.5129\n",
      "differential_evolution step 44: f(x)= -51.5129\n",
      "differential_evolution step 45: f(x)= -54.7081\n",
      "differential_evolution step 46: f(x)= -54.7081\n",
      "differential_evolution step 47: f(x)= -54.7081\n",
      "differential_evolution step 48: f(x)= -54.7081\n",
      "differential_evolution step 49: f(x)= -57.1029\n",
      "differential_evolution step 50: f(x)= -57.1029\n",
      "differential_evolution step 51: f(x)= -57.1029\n",
      "differential_evolution step 52: f(x)= -57.1029\n",
      "differential_evolution step 53: f(x)= -57.1029\n",
      "differential_evolution step 54: f(x)= -57.1029\n",
      "differential_evolution step 55: f(x)= -63.2446\n",
      "differential_evolution step 56: f(x)= -63.2446\n",
      "differential_evolution step 57: f(x)= -63.2446\n",
      "differential_evolution step 58: f(x)= -63.2446\n",
      "differential_evolution step 59: f(x)= -63.2446\n",
      "differential_evolution step 60: f(x)= -66.6879\n"
     ]
    },
    {
     "ename": "KeyboardInterrupt",
     "evalue": "",
     "output_type": "error",
     "traceback": [
      "\u001b[1;31m---------------------------------------------------------------------------\u001b[0m",
      "\u001b[1;31mKeyboardInterrupt\u001b[0m                         Traceback (most recent call last)",
      "\u001b[1;32m<ipython-input-7-3538fe417922>\u001b[0m in \u001b[0;36m<module>\u001b[1;34m()\u001b[0m\n\u001b[0;32m     17\u001b[0m \u001b[0mminimizer_kwargs\u001b[0m \u001b[1;33m=\u001b[0m \u001b[0mdict\u001b[0m\u001b[1;33m(\u001b[0m\u001b[0mmethod\u001b[0m\u001b[1;33m=\u001b[0m\u001b[1;34m'Nelder-Mead'\u001b[0m\u001b[1;33m)\u001b[0m\u001b[1;33m\u001b[0m\u001b[0m\n\u001b[0;32m     18\u001b[0m \u001b[0mbounds\u001b[0m \u001b[1;33m=\u001b[0m \u001b[1;33m[\u001b[0m \u001b[1;33m(\u001b[0m\u001b[1;36m0.2\u001b[0m\u001b[1;33m,\u001b[0m \u001b[1;36m1\u001b[0m\u001b[1;33m)\u001b[0m\u001b[1;33m,\u001b[0m \u001b[1;33m(\u001b[0m\u001b[1;36m0.2\u001b[0m\u001b[1;33m,\u001b[0m \u001b[1;36m1\u001b[0m\u001b[1;33m)\u001b[0m\u001b[1;33m,\u001b[0m \u001b[1;33m(\u001b[0m\u001b[1;36m0.018\u001b[0m\u001b[1;33m,\u001b[0m \u001b[1;36m0.018\u001b[0m\u001b[1;33m)\u001b[0m \u001b[1;33m]\u001b[0m\u001b[1;33m\u001b[0m\u001b[0m\n\u001b[1;32m---> 19\u001b[1;33m \u001b[0moptimized_result\u001b[0m \u001b[1;33m=\u001b[0m \u001b[0mscipy\u001b[0m\u001b[1;33m.\u001b[0m\u001b[0moptimize\u001b[0m\u001b[1;33m.\u001b[0m\u001b[0mdifferential_evolution\u001b[0m\u001b[1;33m(\u001b[0m\u001b[0mtarget\u001b[0m\u001b[1;33m,\u001b[0m \u001b[0mbounds\u001b[0m\u001b[1;33m,\u001b[0m \u001b[0mseed\u001b[0m\u001b[1;33m=\u001b[0m\u001b[1;36m42\u001b[0m\u001b[1;33m,\u001b[0m \u001b[0mdisp\u001b[0m\u001b[1;33m=\u001b[0m\u001b[0mTrue\u001b[0m\u001b[1;33m,\u001b[0m \u001b[0mpopsize\u001b[0m\u001b[1;33m=\u001b[0m\u001b[1;36m20\u001b[0m\u001b[1;33m)\u001b[0m\u001b[1;33m\u001b[0m\u001b[0m\n\u001b[0m\u001b[0;32m     20\u001b[0m \u001b[1;33m\u001b[0m\u001b[0m\n\u001b[0;32m     21\u001b[0m \u001b[1;31m# Basin hopping isn't so good, but could also have been an option:\u001b[0m\u001b[1;33m\u001b[0m\u001b[1;33m\u001b[0m\u001b[0m\n",
      "\u001b[1;32m/usr/lib/python2.7/dist-packages/scipy/optimize/_differentialevolution.pyc\u001b[0m in \u001b[0;36mdifferential_evolution\u001b[1;34m(func, bounds, args, strategy, maxiter, popsize, tol, mutation, recombination, seed, callback, disp, polish, init)\u001b[0m\n\u001b[0;32m    204\u001b[0m                                          \u001b[0mdisp\u001b[0m\u001b[1;33m=\u001b[0m\u001b[0mdisp\u001b[0m\u001b[1;33m,\u001b[0m\u001b[1;33m\u001b[0m\u001b[0m\n\u001b[0;32m    205\u001b[0m                                          init=init)\n\u001b[1;32m--> 206\u001b[1;33m     \u001b[1;32mreturn\u001b[0m \u001b[0msolver\u001b[0m\u001b[1;33m.\u001b[0m\u001b[0msolve\u001b[0m\u001b[1;33m(\u001b[0m\u001b[1;33m)\u001b[0m\u001b[1;33m\u001b[0m\u001b[0m\n\u001b[0m\u001b[0;32m    207\u001b[0m \u001b[1;33m\u001b[0m\u001b[0m\n\u001b[0;32m    208\u001b[0m \u001b[1;33m\u001b[0m\u001b[0m\n",
      "\u001b[1;32m/usr/lib/python2.7/dist-packages/scipy/optimize/_differentialevolution.pyc\u001b[0m in \u001b[0;36msolve\u001b[1;34m(self)\u001b[0m\n\u001b[0;32m    518\u001b[0m \u001b[1;33m\u001b[0m\u001b[0m\n\u001b[0;32m    519\u001b[0m                 \u001b[1;31m# determine the energy of the objective function\u001b[0m\u001b[1;33m\u001b[0m\u001b[1;33m\u001b[0m\u001b[0m\n\u001b[1;32m--> 520\u001b[1;33m                 \u001b[0menergy\u001b[0m \u001b[1;33m=\u001b[0m \u001b[0mself\u001b[0m\u001b[1;33m.\u001b[0m\u001b[0mfunc\u001b[0m\u001b[1;33m(\u001b[0m\u001b[0mparameters\u001b[0m\u001b[1;33m,\u001b[0m \u001b[1;33m*\u001b[0m\u001b[0mself\u001b[0m\u001b[1;33m.\u001b[0m\u001b[0margs\u001b[0m\u001b[1;33m)\u001b[0m\u001b[1;33m\u001b[0m\u001b[0m\n\u001b[0m\u001b[0;32m    521\u001b[0m                 \u001b[0mnfev\u001b[0m \u001b[1;33m+=\u001b[0m \u001b[1;36m1\u001b[0m\u001b[1;33m\u001b[0m\u001b[0m\n\u001b[0;32m    522\u001b[0m \u001b[1;33m\u001b[0m\u001b[0m\n",
      "\u001b[1;32m<ipython-input-4-90cd24442262>\u001b[0m in \u001b[0;36mtarget\u001b[1;34m(args)\u001b[0m\n\u001b[0;32m     12\u001b[0m             \u001b[0mgains_score\u001b[0m \u001b[1;33m=\u001b[0m \u001b[1;36m0.0\u001b[0m\u001b[1;33m\u001b[0m\u001b[0m\n\u001b[0;32m     13\u001b[0m \u001b[1;33m\u001b[0m\u001b[0m\n\u001b[1;32m---> 14\u001b[1;33m             \u001b[0mfreq\u001b[0m\u001b[1;33m,\u001b[0m \u001b[0mgain\u001b[0m\u001b[1;33m,\u001b[0m \u001b[0mvswr\u001b[0m \u001b[1;33m=\u001b[0m \u001b[0mget_gain_swr\u001b[0m\u001b[1;33m(\u001b[0m\u001b[0mheight\u001b[0m\u001b[1;33m,\u001b[0m \u001b[0mdiameter\u001b[0m\u001b[1;33m,\u001b[0m \u001b[0mwire_diameter\u001b[0m\u001b[1;33m,\u001b[0m  \u001b[0mfreq\u001b[0m\u001b[1;33m=\u001b[0m\u001b[0mdesign_freq_mhz\u001b[0m\u001b[1;33m)\u001b[0m\u001b[1;33m\u001b[0m\u001b[0m\n\u001b[0m\u001b[0;32m     15\u001b[0m \u001b[1;33m\u001b[0m\u001b[0m\n\u001b[0;32m     16\u001b[0m             \u001b[1;31m# VSWR should minimal in both bands, gains maximal:\u001b[0m\u001b[1;33m\u001b[0m\u001b[1;33m\u001b[0m\u001b[0m\n",
      "\u001b[1;32m<ipython-input-3-ccecdc069302>\u001b[0m in \u001b[0;36mget_gain_swr\u001b[1;34m(height, diameter, wire_diameter, freq)\u001b[0m\n\u001b[0;32m     22\u001b[0m     \u001b[0mnec\u001b[0m \u001b[1;33m=\u001b[0m \u001b[0msc_quad_helix\u001b[0m\u001b[1;33m(\u001b[0m\u001b[0mheight\u001b[0m\u001b[1;33m,\u001b[0m \u001b[0mdiameter\u001b[0m\u001b[1;33m,\u001b[0m \u001b[0mwire_diameter\u001b[0m\u001b[1;33m)\u001b[0m\u001b[1;33m\u001b[0m\u001b[0m\n\u001b[0;32m     23\u001b[0m     \u001b[0mnec\u001b[0m\u001b[1;33m.\u001b[0m\u001b[0mset_frequency\u001b[0m\u001b[1;33m(\u001b[0m\u001b[0mfreq\u001b[0m\u001b[1;33m)\u001b[0m \u001b[1;31m# TODO: ensure that we don't need to re-generate this!\u001b[0m\u001b[1;33m\u001b[0m\u001b[0m\n\u001b[1;32m---> 24\u001b[1;33m     \u001b[0mnec\u001b[0m\u001b[1;33m.\u001b[0m\u001b[0mradiation_pattern\u001b[0m\u001b[1;33m(\u001b[0m\u001b[0mthetas\u001b[0m\u001b[1;33m=\u001b[0m\u001b[0mRange\u001b[0m\u001b[1;33m(\u001b[0m\u001b[1;36m0\u001b[0m\u001b[1;33m,\u001b[0m \u001b[1;36m0\u001b[0m\u001b[1;33m,\u001b[0m \u001b[0mcount\u001b[0m\u001b[1;33m=\u001b[0m\u001b[1;36m1\u001b[0m\u001b[1;33m)\u001b[0m\u001b[1;33m,\u001b[0m \u001b[0mphis\u001b[0m\u001b[1;33m=\u001b[0m\u001b[0mRange\u001b[0m\u001b[1;33m(\u001b[0m\u001b[1;33m-\u001b[0m\u001b[1;36m90\u001b[0m\u001b[1;33m,\u001b[0m\u001b[1;36m90\u001b[0m\u001b[1;33m,\u001b[0m\u001b[0mcount\u001b[0m\u001b[1;33m=\u001b[0m\u001b[1;36m90\u001b[0m\u001b[1;33m)\u001b[0m\u001b[1;33m)\u001b[0m\u001b[1;33m\u001b[0m\u001b[0m\n\u001b[0m\u001b[0;32m     25\u001b[0m \u001b[1;33m\u001b[0m\u001b[0m\n\u001b[0;32m     26\u001b[0m     \u001b[0mrp\u001b[0m \u001b[1;33m=\u001b[0m \u001b[0mnec\u001b[0m\u001b[1;33m.\u001b[0m\u001b[0mcontext\u001b[0m\u001b[1;33m.\u001b[0m\u001b[0mget_radiation_pattern\u001b[0m\u001b[1;33m(\u001b[0m\u001b[1;36m0\u001b[0m\u001b[1;33m)\u001b[0m\u001b[1;33m\u001b[0m\u001b[0m\n",
      "\u001b[1;32m/home/kaklik/git/NEC-models/antennas/src/context_clean.pyc\u001b[0m in \u001b[0;36mradiation_pattern\u001b[1;34m(self, thetas, phis, output_mode, normalization, gain, average)\u001b[0m\n\u001b[0;32m    151\u001b[0m \u001b[1;33m\u001b[0m\u001b[0m\n\u001b[0;32m    152\u001b[0m         \u001b[0mdebug\u001b[0m\u001b[1;33m(\u001b[0m\u001b[1;34m\"RP\"\u001b[0m\u001b[1;33m,\u001b[0m \u001b[0mnormal_mode\u001b[0m\u001b[1;33m,\u001b[0m \u001b[0mthetas\u001b[0m\u001b[1;33m.\u001b[0m\u001b[0mcount\u001b[0m\u001b[1;33m,\u001b[0m \u001b[0mphis\u001b[0m\u001b[1;33m.\u001b[0m\u001b[0mcount\u001b[0m\u001b[1;33m,\u001b[0m \u001b[0mxnda\u001b[0m\u001b[1;33m,\u001b[0m \u001b[0mthetas\u001b[0m\u001b[1;33m.\u001b[0m\u001b[0mstart\u001b[0m\u001b[1;33m,\u001b[0m \u001b[0mphis\u001b[0m\u001b[1;33m.\u001b[0m\u001b[0mstart\u001b[0m\u001b[1;33m,\u001b[0m \u001b[0mthetas\u001b[0m\u001b[1;33m.\u001b[0m\u001b[0mdelta\u001b[0m\u001b[1;33m,\u001b[0m \u001b[0mphis\u001b[0m\u001b[1;33m.\u001b[0m\u001b[0mdelta\u001b[0m\u001b[1;33m,\u001b[0m \u001b[0mradial_distance\u001b[0m\u001b[1;33m,\u001b[0m \u001b[0mgnornamize_maximum\u001b[0m\u001b[1;33m)\u001b[0m\u001b[1;33m\u001b[0m\u001b[0m\n\u001b[1;32m--> 153\u001b[1;33m         \u001b[0mself\u001b[0m\u001b[1;33m.\u001b[0m\u001b[0mcontext\u001b[0m\u001b[1;33m.\u001b[0m\u001b[0mrp_card\u001b[0m\u001b[1;33m(\u001b[0m\u001b[0mnormal_mode\u001b[0m\u001b[1;33m,\u001b[0m \u001b[0mthetas\u001b[0m\u001b[1;33m.\u001b[0m\u001b[0mcount\u001b[0m\u001b[1;33m,\u001b[0m \u001b[0mphis\u001b[0m\u001b[1;33m.\u001b[0m\u001b[0mcount\u001b[0m\u001b[1;33m,\u001b[0m \u001b[0moutput_mode\u001b[0m\u001b[1;33m,\u001b[0m \u001b[0mnormalization\u001b[0m\u001b[1;33m,\u001b[0m \u001b[0mgain\u001b[0m\u001b[1;33m,\u001b[0m \u001b[0maverage\u001b[0m\u001b[1;33m,\u001b[0m \u001b[0mthetas\u001b[0m\u001b[1;33m.\u001b[0m\u001b[0mstart\u001b[0m\u001b[1;33m,\u001b[0m \u001b[0mphis\u001b[0m\u001b[1;33m.\u001b[0m\u001b[0mstart\u001b[0m\u001b[1;33m,\u001b[0m \u001b[0mthetas\u001b[0m\u001b[1;33m.\u001b[0m\u001b[0mdelta\u001b[0m\u001b[1;33m,\u001b[0m \u001b[0mphis\u001b[0m\u001b[1;33m.\u001b[0m\u001b[0mdelta\u001b[0m\u001b[1;33m,\u001b[0m \u001b[0mradial_distance\u001b[0m\u001b[1;33m,\u001b[0m \u001b[0mgnornamize_maximum\u001b[0m\u001b[1;33m)\u001b[0m\u001b[1;33m\u001b[0m\u001b[0m\n\u001b[0m\u001b[0;32m    154\u001b[0m \u001b[1;33m\u001b[0m\u001b[0m\n\u001b[0;32m    155\u001b[0m     \u001b[1;31m# TODO: shunt admittances, length of transmission line if not straight-line distance\u001b[0m\u001b[1;33m\u001b[0m\u001b[1;33m\u001b[0m\u001b[0m\n",
      "\u001b[1;32m/usr/local/lib/python2.7/dist-packages/PyNEC.pyc\u001b[0m in \u001b[0;36mrp_card\u001b[1;34m(self, *args)\u001b[0m\n\u001b[0;32m     98\u001b[0m     \u001b[1;32mdef\u001b[0m \u001b[0mnt_card\u001b[0m\u001b[1;33m(\u001b[0m\u001b[0mself\u001b[0m\u001b[1;33m,\u001b[0m \u001b[1;33m*\u001b[0m\u001b[0margs\u001b[0m\u001b[1;33m)\u001b[0m\u001b[1;33m:\u001b[0m \u001b[1;32mreturn\u001b[0m \u001b[0m_PyNEC\u001b[0m\u001b[1;33m.\u001b[0m\u001b[0mnec_context_nt_card\u001b[0m\u001b[1;33m(\u001b[0m\u001b[0mself\u001b[0m\u001b[1;33m,\u001b[0m \u001b[1;33m*\u001b[0m\u001b[0margs\u001b[0m\u001b[1;33m)\u001b[0m\u001b[1;33m\u001b[0m\u001b[0m\n\u001b[0;32m     99\u001b[0m     \u001b[1;32mdef\u001b[0m \u001b[0mxq_card\u001b[0m\u001b[1;33m(\u001b[0m\u001b[0mself\u001b[0m\u001b[1;33m,\u001b[0m \u001b[1;33m*\u001b[0m\u001b[0margs\u001b[0m\u001b[1;33m)\u001b[0m\u001b[1;33m:\u001b[0m \u001b[1;32mreturn\u001b[0m \u001b[0m_PyNEC\u001b[0m\u001b[1;33m.\u001b[0m\u001b[0mnec_context_xq_card\u001b[0m\u001b[1;33m(\u001b[0m\u001b[0mself\u001b[0m\u001b[1;33m,\u001b[0m \u001b[1;33m*\u001b[0m\u001b[0margs\u001b[0m\u001b[1;33m)\u001b[0m\u001b[1;33m\u001b[0m\u001b[0m\n\u001b[1;32m--> 100\u001b[1;33m     \u001b[1;32mdef\u001b[0m \u001b[0mrp_card\u001b[0m\u001b[1;33m(\u001b[0m\u001b[0mself\u001b[0m\u001b[1;33m,\u001b[0m \u001b[1;33m*\u001b[0m\u001b[0margs\u001b[0m\u001b[1;33m)\u001b[0m\u001b[1;33m:\u001b[0m \u001b[1;32mreturn\u001b[0m \u001b[0m_PyNEC\u001b[0m\u001b[1;33m.\u001b[0m\u001b[0mnec_context_rp_card\u001b[0m\u001b[1;33m(\u001b[0m\u001b[0mself\u001b[0m\u001b[1;33m,\u001b[0m \u001b[1;33m*\u001b[0m\u001b[0margs\u001b[0m\u001b[1;33m)\u001b[0m\u001b[1;33m\u001b[0m\u001b[0m\n\u001b[0m\u001b[0;32m    101\u001b[0m     \u001b[1;32mdef\u001b[0m \u001b[0mpt_card\u001b[0m\u001b[1;33m(\u001b[0m\u001b[0mself\u001b[0m\u001b[1;33m,\u001b[0m \u001b[1;33m*\u001b[0m\u001b[0margs\u001b[0m\u001b[1;33m)\u001b[0m\u001b[1;33m:\u001b[0m \u001b[1;32mreturn\u001b[0m \u001b[0m_PyNEC\u001b[0m\u001b[1;33m.\u001b[0m\u001b[0mnec_context_pt_card\u001b[0m\u001b[1;33m(\u001b[0m\u001b[0mself\u001b[0m\u001b[1;33m,\u001b[0m \u001b[1;33m*\u001b[0m\u001b[0margs\u001b[0m\u001b[1;33m)\u001b[0m\u001b[1;33m\u001b[0m\u001b[0m\n\u001b[0;32m    102\u001b[0m     \u001b[1;32mdef\u001b[0m \u001b[0mpq_card\u001b[0m\u001b[1;33m(\u001b[0m\u001b[0mself\u001b[0m\u001b[1;33m,\u001b[0m \u001b[1;33m*\u001b[0m\u001b[0margs\u001b[0m\u001b[1;33m)\u001b[0m\u001b[1;33m:\u001b[0m \u001b[1;32mreturn\u001b[0m \u001b[0m_PyNEC\u001b[0m\u001b[1;33m.\u001b[0m\u001b[0mnec_context_pq_card\u001b[0m\u001b[1;33m(\u001b[0m\u001b[0mself\u001b[0m\u001b[1;33m,\u001b[0m \u001b[1;33m*\u001b[0m\u001b[0margs\u001b[0m\u001b[1;33m)\u001b[0m\u001b[1;33m\u001b[0m\u001b[0m\n",
      "\u001b[1;31mKeyboardInterrupt\u001b[0m: "
     ]
    }
   ],
   "source": [
    "  initial_height  = wavelength * 0.3\n",
    "  initial_diameter  = wavelength * 0.2\n",
    "  initial_wire_diameter = 0.018\n",
    "\n",
    "  print \"Wavelength is %0.4fm, initial height and diameter is %0.4fm, %0.4fm\" % (wavelength, initial_height, initial_diameter)\n",
    "  \n",
    "  print \"Unoptimized antenna...\"\n",
    "  show_report(initial_height, initial_diameter, initial_wire_diameter)\n",
    "\n",
    "  print \"Optimizing antenna...\"\n",
    "  target = create_optimization_target()\n",
    "\n",
    "  # Optimize local minimum only with gradient desce\n",
    "  #optimized_result = scipy.optimize.minimize(target, np.array([initial_height, initial_diameter]), method='Nelder-Mead')\n",
    "\n",
    "  # Use differential evolution:\n",
    "  minimizer_kwargs = dict(method='Nelder-Mead')\n",
    "  bounds = [ (0.2, 1), (0.2, 1), (0.018, 0.018) ]\n",
    "  optimized_result = scipy.optimize.differential_evolution(target, bounds, seed=42, disp=True, popsize=20)\n",
    "\n",
    "  # Basin hopping isn't so good, but could also have been an option:\n",
    "  #optimized_result = scipy.optimize.basinhopping(target, np.array([initial_height, initial_diameter]), minimizer_kwargs=minimizer_kwargs, niter=5, stepsize=0.015, T=2.0, disp=True)\n",
    "\n",
    "  print \"Optimized antenna...\"\n",
    "  optimized_height, optimized_diameter, optimized_wire_diameter =  optimized_result.x[0], optimized_result.x[1] , optimized_result.x[2]\n",
    "  print \"Wavelength is %0.4fm, optimized height and diameter is %0.4fm, %0.4fm helix wire diameter should be %0.4fm \" % (wavelength, optimized_height, optimized_diameter, optimized_wire_diameter)\n",
    "  show_report(optimized_height, optimized_diameter, optimized_wire_diameter)\n",
    "\n"
   ]
  },
  {
   "cell_type": "code",
   "execution_count": 8,
   "metadata": {
    "collapsed": false
   },
   "outputs": [],
   "source": [
    "freqs, gains, vswrs = get_gain_swr_range(optimized_height, optimized_diameter, optimized_wire_diameter, start=140, stop=145)"
   ]
  },
  {
   "cell_type": "code",
   "execution_count": 4,
   "metadata": {
    "collapsed": false
   },
   "outputs": [],
   "source": [
    "nec = sc_quad_helix(0.4138, 0.4213, 0.018)\n",
    "nec.set_frequency(143.05) # TODO: ensure that we don't need to re-generate this!\n",
    "nec.radiation_pattern(thetas=Range(-180,180, count=180), phis=Range(-180,180,count=180))"
   ]
  },
  {
   "cell_type": "code",
   "execution_count": 5,
   "metadata": {
    "collapsed": true
   },
   "outputs": [],
   "source": [
    "rp = nec.context.get_radiation_pattern(0)\n",
    "ipt = nec.get_input_parameters(0)\n",
    "z = ipt.get_impedance()[0]"
   ]
  },
  {
   "cell_type": "code",
   "execution_count": 6,
   "metadata": {
    "collapsed": false
   },
   "outputs": [],
   "source": [
    "# Gains are in decibels\n",
    "gains_db = rp.get_gain() # Is an array of theta,phi -> gain. In this case we only have one phi\n",
    "thetas = rp.get_theta_angles() * 3.1415 / 180.0\n",
    "phis = rp.get_phi_angles() * 3.1415 / 180.0"
   ]
  },
  {
   "cell_type": "code",
   "execution_count": 7,
   "metadata": {
    "collapsed": false
   },
   "outputs": [],
   "source": [
    "ax = plt.subplot(121, polar=True)\n",
    "ax.plot(thetas, gains_db, color='r', linewidth=3)\n",
    "ax.set_xticks(np.pi/180. * np.linspace(180,  -180, 8, endpoint=False))\n",
    "ax.set_theta_zero_location(\"N\")\n",
    "ax.set_rlim((-15.0, 15.0)) # TODO: automate. TODO: 4nec2 cheats and makes the lowest points (-999) the same as the lowest non-999 point :)\n",
    "ax.set_rticks(np.linspace(-15, 15, 10, endpoint=False))\n",
    "ax.grid(True)\n",
    "ax.set_title(\"Gain pattern in the vertical plane\", va='bottom')\n",
    "\n",
    "ax = plt.subplot(122, polar=True)\n",
    "ax.plot(phis, gains_db[0,:], color='r', linewidth=3)\n",
    "ax.set_xticks(np.pi/180. * np.linspace(0,  360, 8, endpoint=False))\n",
    "ax.set_theta_zero_location(\"N\")\n",
    "ax.set_rlim((-4, 2.0)) # TODO: automate. TODO: 4nec2 cheats and makes the lowest points (-999) the same as the lowest non-999 point :)\n",
    "ax.set_rticks(np.linspace(-4, 2, 10, endpoint=False))\n",
    "ax.grid(True)\n",
    "\n",
    "ax.set_title(\"Gain pattern in the horizontal plane\", va='bottom')\n",
    "plt.show()"
   ]
  },
  {
   "cell_type": "code",
   "execution_count": null,
   "metadata": {
    "collapsed": true
   },
   "outputs": [],
   "source": []
  }
 ],
 "metadata": {
  "kernelspec": {
   "display_name": "Python 2",
   "language": "python",
   "name": "python2"
  },
  "language_info": {
   "codemirror_mode": {
    "name": "ipython",
    "version": 2
   },
   "file_extension": ".py",
   "mimetype": "text/x-python",
   "name": "python",
   "nbconvert_exporter": "python",
   "pygments_lexer": "ipython2",
   "version": "2.7.11+"
  }
 },
 "nbformat": 4,
 "nbformat_minor": 0
}
